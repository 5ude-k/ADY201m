{
 "cells": [
  {
   "cell_type": "code",
   "execution_count": 100,
   "id": "b269c2c1",
   "metadata": {},
   "outputs": [
    {
     "name": "stdout",
     "output_type": "stream",
     "text": [
      "<class 'pandas.core.frame.DataFrame'>\n",
      "RangeIndex: 2410 entries, 0 to 2409\n",
      "Data columns (total 9 columns):\n",
      " #   Column         Non-Null Count  Dtype \n",
      "---  ------         --------------  ----- \n",
      " 0   id             2410 non-null   int64 \n",
      " 1   location       2410 non-null   object\n",
      " 2   price          2333 non-null   object\n",
      " 3   area           2410 non-null   object\n",
      " 4   date_posted    2410 non-null   object\n",
      " 5   fridge         2410 non-null   object\n",
      " 6   washer         2410 non-null   object\n",
      " 7   air_condition  2410 non-null   object\n",
      " 8   wifi           2410 non-null   object\n",
      "dtypes: int64(1), object(8)\n",
      "memory usage: 169.6+ KB\n"
     ]
    },
    {
     "name": "stderr",
     "output_type": "stream",
     "text": [
      "C:\\Users\\PC THINH\\AppData\\Local\\Temp\\ipykernel_32852\\2069839808.py:17: UserWarning: pandas only supports SQLAlchemy connectable (engine/connection) or database string URI or sqlite3 DBAPI2 connection. Other DBAPI2 objects are not tested. Please consider using SQLAlchemy.\n",
      "  df = pd.read_sql(query, conn)\n"
     ]
    }
   ],
   "source": [
    "import pandas as pd\n",
    "import numpy as np\n",
    "import matplotlib.pyplot as plt\n",
    "import seaborn as sns\n",
    "import mysql.connector\n",
    "\n",
    "# Kết nối MySQL\n",
    "conn = mysql.connector.connect(\n",
    "    host=\"localhost\",\n",
    "    user=\"root\",\n",
    "    password=\"Minhthinh@2k5\",\n",
    "    database=\"DB_STORAGE2\"\n",
    ")\n",
    "\n",
    "# Lấy toàn bộ dữ liệu từ bảng\n",
    "query = \"SELECT * FROM houses\"\n",
    "df = pd.read_sql(query, conn)\n",
    "\n",
    "# Đóng kết nối\n",
    "conn.close()\n",
    "\n",
    "# Kiểm tra dữ liệu\n",
    "df.shape    # Số dòng, số cột\n",
    "df.info()   # Kiểu dữ liệu\n",
    "\n"
   ]
  },
  {
   "cell_type": "code",
   "execution_count": 82,
   "id": "c910902e",
   "metadata": {},
   "outputs": [
    {
     "data": {
      "application/vnd.microsoft.datawrangler.viewer.v0+json": {
       "columns": [
        {
         "name": "index",
         "rawType": "object",
         "type": "string"
        },
        {
         "name": "id",
         "rawType": "float64",
         "type": "float"
        },
        {
         "name": "location",
         "rawType": "object",
         "type": "unknown"
        },
        {
         "name": "price",
         "rawType": "object",
         "type": "unknown"
        },
        {
         "name": "area",
         "rawType": "object",
         "type": "unknown"
        },
        {
         "name": "date_posted",
         "rawType": "object",
         "type": "unknown"
        },
        {
         "name": "fridge",
         "rawType": "object",
         "type": "unknown"
        },
        {
         "name": "washer",
         "rawType": "object",
         "type": "unknown"
        },
        {
         "name": "air_condition",
         "rawType": "object",
         "type": "unknown"
        },
        {
         "name": "wifi",
         "rawType": "object",
         "type": "unknown"
        }
       ],
       "ref": "a027536d-8368-4c1b-a080-eff74655da5b",
       "rows": [
        [
         "count",
         "2410.0",
         "2410",
         "2333",
         "2410",
         "2410",
         "2410",
         "2410",
         "2410",
         "2410"
        ],
        [
         "unique",
         null,
         "7",
         "39",
         "35",
         "56",
         "2",
         "2",
         "2",
         "2"
        ],
        [
         "top",
         null,
         "Hải Châu, Đà Nẵng",
         "1500000.0",
         "20.0",
         "2021-10-28",
         "0",
         "0",
         "0",
         "0"
        ],
        [
         "freq",
         null,
         "608",
         "353",
         "640",
         "479",
         "1668",
         "1608",
         "1644",
         "1375"
        ],
        [
         "mean",
         "1302.8896265560165",
         null,
         null,
         null,
         null,
         null,
         null,
         null,
         null
        ],
        [
         "std",
         "743.8345504028731",
         null,
         null,
         null,
         null,
         null,
         null,
         null,
         null
        ],
        [
         "min",
         "1.0",
         null,
         null,
         null,
         null,
         null,
         null,
         null,
         null
        ],
        [
         "25%",
         "655.25",
         null,
         null,
         null,
         null,
         null,
         null,
         null,
         null
        ],
        [
         "50%",
         "1309.5",
         null,
         null,
         null,
         null,
         null,
         null,
         null,
         null
        ],
        [
         "75%",
         "1938.75",
         null,
         null,
         null,
         null,
         null,
         null,
         null,
         null
        ],
        [
         "max",
         "2575.0",
         null,
         null,
         null,
         null,
         null,
         null,
         null,
         null
        ]
       ],
       "shape": {
        "columns": 9,
        "rows": 11
       }
      },
      "text/html": [
       "<div>\n",
       "<style scoped>\n",
       "    .dataframe tbody tr th:only-of-type {\n",
       "        vertical-align: middle;\n",
       "    }\n",
       "\n",
       "    .dataframe tbody tr th {\n",
       "        vertical-align: top;\n",
       "    }\n",
       "\n",
       "    .dataframe thead th {\n",
       "        text-align: right;\n",
       "    }\n",
       "</style>\n",
       "<table border=\"1\" class=\"dataframe\">\n",
       "  <thead>\n",
       "    <tr style=\"text-align: right;\">\n",
       "      <th></th>\n",
       "      <th>id</th>\n",
       "      <th>location</th>\n",
       "      <th>price</th>\n",
       "      <th>area</th>\n",
       "      <th>date_posted</th>\n",
       "      <th>fridge</th>\n",
       "      <th>washer</th>\n",
       "      <th>air_condition</th>\n",
       "      <th>wifi</th>\n",
       "    </tr>\n",
       "  </thead>\n",
       "  <tbody>\n",
       "    <tr>\n",
       "      <th>count</th>\n",
       "      <td>2410.000000</td>\n",
       "      <td>2410</td>\n",
       "      <td>2333</td>\n",
       "      <td>2410</td>\n",
       "      <td>2410</td>\n",
       "      <td>2410</td>\n",
       "      <td>2410</td>\n",
       "      <td>2410</td>\n",
       "      <td>2410</td>\n",
       "    </tr>\n",
       "    <tr>\n",
       "      <th>unique</th>\n",
       "      <td>NaN</td>\n",
       "      <td>7</td>\n",
       "      <td>39</td>\n",
       "      <td>35</td>\n",
       "      <td>56</td>\n",
       "      <td>2</td>\n",
       "      <td>2</td>\n",
       "      <td>2</td>\n",
       "      <td>2</td>\n",
       "    </tr>\n",
       "    <tr>\n",
       "      <th>top</th>\n",
       "      <td>NaN</td>\n",
       "      <td>Hải Châu, Đà Nẵng</td>\n",
       "      <td>1500000.0</td>\n",
       "      <td>20.0</td>\n",
       "      <td>2021-10-28</td>\n",
       "      <td>0</td>\n",
       "      <td>0</td>\n",
       "      <td>0</td>\n",
       "      <td>0</td>\n",
       "    </tr>\n",
       "    <tr>\n",
       "      <th>freq</th>\n",
       "      <td>NaN</td>\n",
       "      <td>608</td>\n",
       "      <td>353</td>\n",
       "      <td>640</td>\n",
       "      <td>479</td>\n",
       "      <td>1668</td>\n",
       "      <td>1608</td>\n",
       "      <td>1644</td>\n",
       "      <td>1375</td>\n",
       "    </tr>\n",
       "    <tr>\n",
       "      <th>mean</th>\n",
       "      <td>1302.889627</td>\n",
       "      <td>NaN</td>\n",
       "      <td>NaN</td>\n",
       "      <td>NaN</td>\n",
       "      <td>NaN</td>\n",
       "      <td>NaN</td>\n",
       "      <td>NaN</td>\n",
       "      <td>NaN</td>\n",
       "      <td>NaN</td>\n",
       "    </tr>\n",
       "    <tr>\n",
       "      <th>std</th>\n",
       "      <td>743.834550</td>\n",
       "      <td>NaN</td>\n",
       "      <td>NaN</td>\n",
       "      <td>NaN</td>\n",
       "      <td>NaN</td>\n",
       "      <td>NaN</td>\n",
       "      <td>NaN</td>\n",
       "      <td>NaN</td>\n",
       "      <td>NaN</td>\n",
       "    </tr>\n",
       "    <tr>\n",
       "      <th>min</th>\n",
       "      <td>1.000000</td>\n",
       "      <td>NaN</td>\n",
       "      <td>NaN</td>\n",
       "      <td>NaN</td>\n",
       "      <td>NaN</td>\n",
       "      <td>NaN</td>\n",
       "      <td>NaN</td>\n",
       "      <td>NaN</td>\n",
       "      <td>NaN</td>\n",
       "    </tr>\n",
       "    <tr>\n",
       "      <th>25%</th>\n",
       "      <td>655.250000</td>\n",
       "      <td>NaN</td>\n",
       "      <td>NaN</td>\n",
       "      <td>NaN</td>\n",
       "      <td>NaN</td>\n",
       "      <td>NaN</td>\n",
       "      <td>NaN</td>\n",
       "      <td>NaN</td>\n",
       "      <td>NaN</td>\n",
       "    </tr>\n",
       "    <tr>\n",
       "      <th>50%</th>\n",
       "      <td>1309.500000</td>\n",
       "      <td>NaN</td>\n",
       "      <td>NaN</td>\n",
       "      <td>NaN</td>\n",
       "      <td>NaN</td>\n",
       "      <td>NaN</td>\n",
       "      <td>NaN</td>\n",
       "      <td>NaN</td>\n",
       "      <td>NaN</td>\n",
       "    </tr>\n",
       "    <tr>\n",
       "      <th>75%</th>\n",
       "      <td>1938.750000</td>\n",
       "      <td>NaN</td>\n",
       "      <td>NaN</td>\n",
       "      <td>NaN</td>\n",
       "      <td>NaN</td>\n",
       "      <td>NaN</td>\n",
       "      <td>NaN</td>\n",
       "      <td>NaN</td>\n",
       "      <td>NaN</td>\n",
       "    </tr>\n",
       "    <tr>\n",
       "      <th>max</th>\n",
       "      <td>2575.000000</td>\n",
       "      <td>NaN</td>\n",
       "      <td>NaN</td>\n",
       "      <td>NaN</td>\n",
       "      <td>NaN</td>\n",
       "      <td>NaN</td>\n",
       "      <td>NaN</td>\n",
       "      <td>NaN</td>\n",
       "      <td>NaN</td>\n",
       "    </tr>\n",
       "  </tbody>\n",
       "</table>\n",
       "</div>"
      ],
      "text/plain": [
       "                 id           location      price  area date_posted fridge  \\\n",
       "count   2410.000000               2410       2333  2410        2410   2410   \n",
       "unique          NaN                  7         39    35          56      2   \n",
       "top             NaN  Hải Châu, Đà Nẵng  1500000.0  20.0  2021-10-28      0   \n",
       "freq            NaN                608        353   640         479   1668   \n",
       "mean    1302.889627                NaN        NaN   NaN         NaN    NaN   \n",
       "std      743.834550                NaN        NaN   NaN         NaN    NaN   \n",
       "min        1.000000                NaN        NaN   NaN         NaN    NaN   \n",
       "25%      655.250000                NaN        NaN   NaN         NaN    NaN   \n",
       "50%     1309.500000                NaN        NaN   NaN         NaN    NaN   \n",
       "75%     1938.750000                NaN        NaN   NaN         NaN    NaN   \n",
       "max     2575.000000                NaN        NaN   NaN         NaN    NaN   \n",
       "\n",
       "       washer air_condition  wifi  \n",
       "count    2410          2410  2410  \n",
       "unique      2             2     2  \n",
       "top         0             0     0  \n",
       "freq     1608          1644  1375  \n",
       "mean      NaN           NaN   NaN  \n",
       "std       NaN           NaN   NaN  \n",
       "min       NaN           NaN   NaN  \n",
       "25%       NaN           NaN   NaN  \n",
       "50%       NaN           NaN   NaN  \n",
       "75%       NaN           NaN   NaN  \n",
       "max       NaN           NaN   NaN  "
      ]
     },
     "execution_count": 82,
     "metadata": {},
     "output_type": "execute_result"
    }
   ],
   "source": [
    "#Mô tả thống kê cơ bản→ Giúp bạn biết giá trị trung bình, min, max, độ lệch chuẩn, giá trị thiếu (NaN)...\n",
    "df.describe(include=\"all\")"
   ]
  },
  {
   "cell_type": "code",
   "execution_count": 83,
   "id": "da641019",
   "metadata": {},
   "outputs": [
    {
     "data": {
      "application/vnd.microsoft.datawrangler.viewer.v0+json": {
       "columns": [
        {
         "name": "index",
         "rawType": "object",
         "type": "string"
        },
        {
         "name": "0",
         "rawType": "int64",
         "type": "integer"
        }
       ],
       "ref": "792fb82c-3fb4-44b4-8f9f-52079d4acbd3",
       "rows": [
        [
         "price",
         "77"
        ],
        [
         "id",
         "0"
        ],
        [
         "location",
         "0"
        ],
        [
         "area",
         "0"
        ],
        [
         "date_posted",
         "0"
        ],
        [
         "fridge",
         "0"
        ],
        [
         "washer",
         "0"
        ],
        [
         "air_condition",
         "0"
        ],
        [
         "wifi",
         "0"
        ]
       ],
       "shape": {
        "columns": 1,
        "rows": 9
       }
      },
      "text/plain": [
       "price            77\n",
       "id                0\n",
       "location          0\n",
       "area              0\n",
       "date_posted       0\n",
       "fridge            0\n",
       "washer            0\n",
       "air_condition     0\n",
       "wifi              0\n",
       "dtype: int64"
      ]
     },
     "execution_count": 83,
     "metadata": {},
     "output_type": "execute_result"
    }
   ],
   "source": [
    "#kiểm tra dữ liệu bị thiếu (NaN)\n",
    "df.isnull().sum().sort_values(ascending=False)"
   ]
  },
  {
   "cell_type": "code",
   "execution_count": 84,
   "id": "4fc031e5",
   "metadata": {},
   "outputs": [],
   "source": [
    "df = df.dropna(subset=['price'])\n"
   ]
  },
  {
   "cell_type": "code",
   "execution_count": 85,
   "id": "3082f33b",
   "metadata": {},
   "outputs": [
    {
     "name": "stdout",
     "output_type": "stream",
     "text": [
      "id                int64\n",
      "location         object\n",
      "price            object\n",
      "area             object\n",
      "date_posted      object\n",
      "fridge           object\n",
      "washer           object\n",
      "air_condition    object\n",
      "wifi             object\n",
      "dtype: object\n"
     ]
    }
   ],
   "source": [
    "#Ép kiểu dữ liệu đúng chuẩn -> \n",
    "print(df.dtypes)\n",
    "df[\"price\"] = pd.to_numeric(df[\"price\"], errors=\"coerce\")\n",
    "df[\"area\"] = pd.to_numeric(df[\"area\"], errors=\"coerce\")\n",
    "\n",
    "df[\"date_posted\"] = pd.to_datetime(df[\"date_posted\"], errors=\"coerce\")\n",
    "\n",
    "\n"
   ]
  },
  {
   "cell_type": "code",
   "execution_count": 102,
   "id": "e83b524c",
   "metadata": {},
   "outputs": [
    {
     "name": "stdout",
     "output_type": "stream",
     "text": [
      "                 id           location      price  area date_posted fridge  \\\n",
      "count   2410.000000               2410       2333  2410        2410   2410   \n",
      "unique          NaN                  7         39    35          56      2   \n",
      "top             NaN  Hải Châu, Đà Nẵng  1500000.0  20.0  2021-10-28      0   \n",
      "freq            NaN                608        353   640         479   1668   \n",
      "mean    1302.889627                NaN        NaN   NaN         NaN    NaN   \n",
      "std      743.834550                NaN        NaN   NaN         NaN    NaN   \n",
      "min        1.000000                NaN        NaN   NaN         NaN    NaN   \n",
      "25%      655.250000                NaN        NaN   NaN         NaN    NaN   \n",
      "50%     1309.500000                NaN        NaN   NaN         NaN    NaN   \n",
      "75%     1938.750000                NaN        NaN   NaN         NaN    NaN   \n",
      "max     2575.000000                NaN        NaN   NaN         NaN    NaN   \n",
      "\n",
      "       washer air_condition  wifi  \n",
      "count    2410          2410  2410  \n",
      "unique      2             2     2  \n",
      "top         0             0     0  \n",
      "freq     1608          1644  1375  \n",
      "mean      NaN           NaN   NaN  \n",
      "std       NaN           NaN   NaN  \n",
      "min       NaN           NaN   NaN  \n",
      "25%       NaN           NaN   NaN  \n",
      "50%       NaN           NaN   NaN  \n",
      "75%       NaN           NaN   NaN  \n",
      "max       NaN           NaN   NaN  \n",
      "<class 'pandas.core.frame.DataFrame'>\n",
      "RangeIndex: 2410 entries, 0 to 2409\n",
      "Data columns (total 9 columns):\n",
      " #   Column         Non-Null Count  Dtype \n",
      "---  ------         --------------  ----- \n",
      " 0   id             2410 non-null   int64 \n",
      " 1   location       2410 non-null   object\n",
      " 2   price          2333 non-null   object\n",
      " 3   area           2410 non-null   object\n",
      " 4   date_posted    2410 non-null   object\n",
      " 5   fridge         2410 non-null   object\n",
      " 6   washer         2410 non-null   object\n",
      " 7   air_condition  2410 non-null   object\n",
      " 8   wifi           2410 non-null   object\n",
      "dtypes: int64(1), object(8)\n",
      "memory usage: 169.6+ KB\n",
      "None\n"
     ]
    }
   ],
   "source": [
    "print(df.describe(include=\"all\"))\n",
    "print(df.info())\n"
   ]
  },
  {
   "cell_type": "code",
   "execution_count": 87,
   "id": "f494b3e7",
   "metadata": {},
   "outputs": [],
   "source": [
    "df = df[(df['price'] >= 1500000) & (df['price'] <= 8000000)]\n",
    "df = df[(df['area'] >= 10) & (df['area'] <= 50)]\n",
    "\n",
    "df['district'] = df['location'].apply(lambda x: x.split(',')[0].strip())\n"
   ]
  },
  {
   "cell_type": "code",
   "execution_count": 88,
   "id": "91c30f29",
   "metadata": {},
   "outputs": [
    {
     "name": "stdout",
     "output_type": "stream",
     "text": [
      " Shape sau khi lọc: (1903, 10)\n",
      "\n",
      " Giá trị thống kê Price:\n",
      "count    1.903000e+03\n",
      "mean     2.245717e+06\n",
      "std      8.309037e+05\n",
      "min      1.500000e+06\n",
      "25%      1.700000e+06\n",
      "50%      2.000000e+06\n",
      "75%      2.500000e+06\n",
      "max      6.900000e+06\n",
      "Name: price, dtype: float64\n",
      "\n",
      " Thống kê Area:\n",
      "count    1903.000000\n",
      "mean       24.133999\n",
      "std         7.100111\n",
      "min        10.000000\n",
      "25%        20.000000\n",
      "50%        22.000000\n",
      "75%        27.000000\n",
      "max        50.000000\n",
      "Name: area, dtype: float64\n",
      "\n",
      " Giá trị unique District:\n",
      "district\n",
      "Hải Châu        514\n",
      "Ngũ Hành Sơn    379\n",
      "Cẩm Lệ          286\n",
      "Thanh Khê       265\n",
      "Liên Chiểu      244\n",
      "Sơn Trà         192\n",
      "Hòa Vang         23\n",
      "Name: count, dtype: int64\n"
     ]
    }
   ],
   "source": [
    "print(\" Shape sau khi lọc:\", df.shape)\n",
    "print(\"\\n Giá trị thống kê Price:\")\n",
    "print(df['price'].describe())\n",
    "print(\"\\n Thống kê Area:\")\n",
    "print(df['area'].describe())\n",
    "print(\"\\n Giá trị unique District:\")\n",
    "print(df['district'].value_counts())\n",
    "\n"
   ]
  },
  {
   "cell_type": "code",
   "execution_count": 89,
   "id": "1b383980",
   "metadata": {},
   "outputs": [
    {
     "data": {
      "application/vnd.microsoft.datawrangler.viewer.v0+json": {
       "columns": [
        {
         "name": "index",
         "rawType": "int64",
         "type": "integer"
        },
        {
         "name": "id",
         "rawType": "int64",
         "type": "integer"
        },
        {
         "name": "location",
         "rawType": "object",
         "type": "string"
        },
        {
         "name": "price",
         "rawType": "float64",
         "type": "float"
        },
        {
         "name": "area",
         "rawType": "float64",
         "type": "float"
        },
        {
         "name": "date_posted",
         "rawType": "datetime64[ns]",
         "type": "datetime"
        },
        {
         "name": "fridge",
         "rawType": "object",
         "type": "string"
        },
        {
         "name": "washer",
         "rawType": "object",
         "type": "string"
        },
        {
         "name": "air_condition",
         "rawType": "object",
         "type": "string"
        },
        {
         "name": "wifi",
         "rawType": "object",
         "type": "string"
        },
        {
         "name": "district",
         "rawType": "object",
         "type": "string"
        }
       ],
       "ref": "232b9f87-c5fd-49fe-b445-61b0a22f7d83",
       "rows": [
        [
         "0",
         "1",
         "Cẩm Lệ, Đà Nẵng",
         "6900000.0",
         "50.0",
         "2025-09-16 00:00:00",
         "1",
         "1",
         "1",
         "1",
         "Cẩm Lệ"
        ],
        [
         "1",
         "2",
         "Hải Châu, Đà Nẵng",
         "5000000.0",
         "35.0",
         "2025-08-16 00:00:00",
         "1",
         "1",
         "1",
         "1",
         "Hải Châu"
        ],
        [
         "2",
         "3",
         "Hải Châu, Đà Nẵng",
         "2500000.0",
         "23.0",
         "2025-07-16 00:00:00",
         "0",
         "0",
         "0",
         "1",
         "Hải Châu"
        ],
        [
         "5",
         "6",
         "Hải Châu, Đà Nẵng",
         "1900000.0",
         "20.0",
         "2025-06-16 00:00:00",
         "0",
         "0",
         "0",
         "0",
         "Hải Châu"
        ],
        [
         "6",
         "7",
         "Ngũ Hành Sơn, Đà Nẵng",
         "1500000.0",
         "16.0",
         "2025-06-16 00:00:00",
         "0",
         "0",
         "0",
         "0",
         "Ngũ Hành Sơn"
        ],
        [
         "7",
         "8",
         "Cẩm Lệ, Đà Nẵng",
         "2500000.0",
         "18.0",
         "2025-05-16 00:00:00",
         "1",
         "1",
         "1",
         "1",
         "Cẩm Lệ"
        ],
        [
         "8",
         "9",
         "Hải Châu, Đà Nẵng",
         "1900000.0",
         "20.0",
         "2025-03-16 00:00:00",
         "0",
         "0",
         "0",
         "0",
         "Hải Châu"
        ],
        [
         "9",
         "10",
         "Hải Châu, Đà Nẵng",
         "1900000.0",
         "20.0",
         "2025-03-16 00:00:00",
         "0",
         "0",
         "0",
         "0",
         "Hải Châu"
        ],
        [
         "10",
         "11",
         "Ngũ Hành Sơn, Đà Nẵng",
         "2500000.0",
         "20.0",
         "2025-03-16 00:00:00",
         "0",
         "0",
         "0",
         "0",
         "Ngũ Hành Sơn"
        ],
        [
         "11",
         "12",
         "Ngũ Hành Sơn, Đà Nẵng",
         "4700000.0",
         "32.0",
         "2024-12-16 00:00:00",
         "1",
         "1",
         "1",
         "1",
         "Ngũ Hành Sơn"
        ],
        [
         "12",
         "13",
         "Sơn Trà, Đà Nẵng",
         "3000000.0",
         "30.0",
         "2024-10-16 00:00:00",
         "0",
         "1",
         "1",
         "0",
         "Sơn Trà"
        ],
        [
         "13",
         "14",
         "Liên Chiểu, Đà Nẵng",
         "2500000.0",
         "40.0",
         "2024-10-16 00:00:00",
         "0",
         "0",
         "0",
         "0",
         "Liên Chiểu"
        ],
        [
         "15",
         "16",
         "Hải Châu, Đà Nẵng",
         "2300000.0",
         "20.0",
         "2024-10-16 00:00:00",
         "0",
         "0",
         "0",
         "0",
         "Hải Châu"
        ],
        [
         "16",
         "17",
         "Hải Châu, Đà Nẵng",
         "1500000.0",
         "12.0",
         "2024-10-16 00:00:00",
         "0",
         "0",
         "0",
         "0",
         "Hải Châu"
        ],
        [
         "17",
         "18",
         "Thanh Khê, Đà Nẵng",
         "1500000.0",
         "12.0",
         "2024-10-16 00:00:00",
         "0",
         "0",
         "0",
         "0",
         "Thanh Khê"
        ],
        [
         "18",
         "19",
         "Thanh Khê, Đà Nẵng",
         "2200000.0",
         "20.0",
         "2024-10-16 00:00:00",
         "0",
         "0",
         "0",
         "0",
         "Thanh Khê"
        ],
        [
         "20",
         "21",
         "Ngũ Hành Sơn, Đà Nẵng",
         "3000000.0",
         "32.0",
         "2024-10-16 00:00:00",
         "0",
         "0",
         "0",
         "0",
         "Ngũ Hành Sơn"
        ],
        [
         "21",
         "22",
         "Thanh Khê, Đà Nẵng",
         "2000000.0",
         "25.0",
         "2024-10-16 00:00:00",
         "0",
         "0",
         "1",
         "1",
         "Thanh Khê"
        ],
        [
         "22",
         "23",
         "Hải Châu, Đà Nẵng",
         "2500000.0",
         "35.0",
         "2024-10-16 00:00:00",
         "0",
         "0",
         "0",
         "1",
         "Hải Châu"
        ],
        [
         "23",
         "24",
         "Liên Chiểu, Đà Nẵng",
         "2900000.0",
         "35.0",
         "2024-10-16 00:00:00",
         "0",
         "0",
         "0",
         "0",
         "Liên Chiểu"
        ],
        [
         "24",
         "25",
         "Sơn Trà, Đà Nẵng",
         "2800000.0",
         "25.0",
         "2024-10-16 00:00:00",
         "1",
         "1",
         "1",
         "1",
         "Sơn Trà"
        ],
        [
         "25",
         "26",
         "Ngũ Hành Sơn, Đà Nẵng",
         "3000000.0",
         "25.0",
         "2023-10-16 00:00:00",
         "0",
         "0",
         "0",
         "0",
         "Ngũ Hành Sơn"
        ],
        [
         "26",
         "27",
         "Liên Chiểu, Đà Nẵng",
         "2000000.0",
         "35.0",
         "2023-10-16 00:00:00",
         "0",
         "0",
         "0",
         "0",
         "Liên Chiểu"
        ],
        [
         "27",
         "28",
         "Thanh Khê, Đà Nẵng",
         "2000000.0",
         "25.0",
         "2023-10-16 00:00:00",
         "0",
         "0",
         "1",
         "1",
         "Thanh Khê"
        ],
        [
         "30",
         "32",
         "Sơn Trà, Đà Nẵng",
         "3700000.0",
         "20.0",
         "2023-10-16 00:00:00",
         "1",
         "1",
         "1",
         "1",
         "Sơn Trà"
        ],
        [
         "31",
         "33",
         "Liên Chiểu, Đà Nẵng",
         "1800000.0",
         "35.0",
         "2023-10-16 00:00:00",
         "0",
         "0",
         "0",
         "0",
         "Liên Chiểu"
        ],
        [
         "32",
         "34",
         "Thanh Khê, Đà Nẵng",
         "1500000.0",
         "20.0",
         "2023-10-16 00:00:00",
         "0",
         "0",
         "0",
         "0",
         "Thanh Khê"
        ],
        [
         "33",
         "35",
         "Sơn Trà, Đà Nẵng",
         "2300000.0",
         "25.0",
         "2023-10-16 00:00:00",
         "0",
         "0",
         "1",
         "0",
         "Sơn Trà"
        ],
        [
         "35",
         "37",
         "Liên Chiểu, Đà Nẵng",
         "1800000.0",
         "35.0",
         "2023-10-16 00:00:00",
         "0",
         "0",
         "0",
         "0",
         "Liên Chiểu"
        ],
        [
         "36",
         "38",
         "Ngũ Hành Sơn, Đà Nẵng",
         "2500000.0",
         "35.0",
         "2023-10-16 00:00:00",
         "0",
         "0",
         "0",
         "0",
         "Ngũ Hành Sơn"
        ],
        [
         "37",
         "39",
         "Hải Châu, Đà Nẵng",
         "2000000.0",
         "35.0",
         "2023-10-16 00:00:00",
         "0",
         "0",
         "0",
         "0",
         "Hải Châu"
        ],
        [
         "38",
         "40",
         "Thanh Khê, Đà Nẵng",
         "1700000.0",
         "20.0",
         "2023-10-16 00:00:00",
         "0",
         "0",
         "0",
         "0",
         "Thanh Khê"
        ],
        [
         "39",
         "41",
         "Hải Châu, Đà Nẵng",
         "2200000.0",
         "18.0",
         "2023-10-16 00:00:00",
         "0",
         "0",
         "0",
         "0",
         "Hải Châu"
        ],
        [
         "40",
         "42",
         "Liên Chiểu, Đà Nẵng",
         "2500000.0",
         "40.0",
         "2023-10-16 00:00:00",
         "0",
         "0",
         "0",
         "0",
         "Liên Chiểu"
        ],
        [
         "43",
         "45",
         "Hải Châu, Đà Nẵng",
         "2500000.0",
         "30.0",
         "2023-10-16 00:00:00",
         "0",
         "0",
         "0",
         "0",
         "Hải Châu"
        ],
        [
         "44",
         "46",
         "Hải Châu, Đà Nẵng",
         "3000000.0",
         "30.0",
         "2023-10-16 00:00:00",
         "0",
         "0",
         "0",
         "0",
         "Hải Châu"
        ],
        [
         "45",
         "47",
         "Hải Châu, Đà Nẵng",
         "1700000.0",
         "13.0",
         "2023-10-16 00:00:00",
         "0",
         "0",
         "0",
         "0",
         "Hải Châu"
        ],
        [
         "46",
         "48",
         "Ngũ Hành Sơn, Đà Nẵng",
         "1500000.0",
         "20.0",
         "2023-10-16 00:00:00",
         "0",
         "0",
         "0",
         "0",
         "Ngũ Hành Sơn"
        ],
        [
         "47",
         "49",
         "Cẩm Lệ, Đà Nẵng",
         "3500000.0",
         "25.0",
         "2022-10-16 00:00:00",
         "1",
         "1",
         "1",
         "1",
         "Cẩm Lệ"
        ],
        [
         "48",
         "50",
         "Ngũ Hành Sơn, Đà Nẵng",
         "2000000.0",
         "12.0",
         "2022-10-16 00:00:00",
         "0",
         "0",
         "0",
         "1",
         "Ngũ Hành Sơn"
        ],
        [
         "49",
         "55",
         "Hải Châu, Đà Nẵng",
         "6000000.0",
         "41.0",
         "2022-10-16 00:00:00",
         "1",
         "1",
         "1",
         "1",
         "Hải Châu"
        ],
        [
         "50",
         "68",
         "Liên Chiểu, Đà Nẵng",
         "1700000.0",
         "30.0",
         "2022-10-16 00:00:00",
         "0",
         "0",
         "0",
         "0",
         "Liên Chiểu"
        ],
        [
         "51",
         "69",
         "Hải Châu, Đà Nẵng",
         "3500000.0",
         "30.0",
         "2022-10-16 00:00:00",
         "1",
         "1",
         "0",
         "0",
         "Hải Châu"
        ],
        [
         "52",
         "70",
         "Cẩm Lệ, Đà Nẵng",
         "2000000.0",
         "15.0",
         "2022-10-16 00:00:00",
         "0",
         "1",
         "0",
         "0",
         "Cẩm Lệ"
        ],
        [
         "53",
         "71",
         "Liên Chiểu, Đà Nẵng",
         "1800000.0",
         "25.0",
         "2022-10-16 00:00:00",
         "0",
         "1",
         "0",
         "0",
         "Liên Chiểu"
        ],
        [
         "54",
         "72",
         "Cẩm Lệ, Đà Nẵng",
         "3000000.0",
         "40.0",
         "2022-10-16 00:00:00",
         "1",
         "1",
         "1",
         "1",
         "Cẩm Lệ"
        ],
        [
         "55",
         "73",
         "Cẩm Lệ, Đà Nẵng",
         "3000000.0",
         "40.0",
         "2022-10-16 00:00:00",
         "0",
         "1",
         "0",
         "0",
         "Cẩm Lệ"
        ],
        [
         "56",
         "74",
         "Thanh Khê, Đà Nẵng",
         "2200000.0",
         "35.0",
         "2022-10-16 00:00:00",
         "0",
         "0",
         "0",
         "0",
         "Thanh Khê"
        ],
        [
         "60",
         "78",
         "Ngũ Hành Sơn, Đà Nẵng",
         "3000000.0",
         "25.0",
         "2022-10-16 00:00:00",
         "1",
         "1",
         "1",
         "1",
         "Ngũ Hành Sơn"
        ],
        [
         "61",
         "79",
         "Thanh Khê, Đà Nẵng",
         "1500000.0",
         "15.0",
         "2022-10-16 00:00:00",
         "1",
         "1",
         "1",
         "1",
         "Thanh Khê"
        ]
       ],
       "shape": {
        "columns": 10,
        "rows": 1903
       }
      },
      "text/html": [
       "<div>\n",
       "<style scoped>\n",
       "    .dataframe tbody tr th:only-of-type {\n",
       "        vertical-align: middle;\n",
       "    }\n",
       "\n",
       "    .dataframe tbody tr th {\n",
       "        vertical-align: top;\n",
       "    }\n",
       "\n",
       "    .dataframe thead th {\n",
       "        text-align: right;\n",
       "    }\n",
       "</style>\n",
       "<table border=\"1\" class=\"dataframe\">\n",
       "  <thead>\n",
       "    <tr style=\"text-align: right;\">\n",
       "      <th></th>\n",
       "      <th>id</th>\n",
       "      <th>location</th>\n",
       "      <th>price</th>\n",
       "      <th>area</th>\n",
       "      <th>date_posted</th>\n",
       "      <th>fridge</th>\n",
       "      <th>washer</th>\n",
       "      <th>air_condition</th>\n",
       "      <th>wifi</th>\n",
       "      <th>district</th>\n",
       "    </tr>\n",
       "  </thead>\n",
       "  <tbody>\n",
       "    <tr>\n",
       "      <th>0</th>\n",
       "      <td>1</td>\n",
       "      <td>Cẩm Lệ, Đà Nẵng</td>\n",
       "      <td>6900000.0</td>\n",
       "      <td>50.0</td>\n",
       "      <td>2025-09-16</td>\n",
       "      <td>1</td>\n",
       "      <td>1</td>\n",
       "      <td>1</td>\n",
       "      <td>1</td>\n",
       "      <td>Cẩm Lệ</td>\n",
       "    </tr>\n",
       "    <tr>\n",
       "      <th>1</th>\n",
       "      <td>2</td>\n",
       "      <td>Hải Châu, Đà Nẵng</td>\n",
       "      <td>5000000.0</td>\n",
       "      <td>35.0</td>\n",
       "      <td>2025-08-16</td>\n",
       "      <td>1</td>\n",
       "      <td>1</td>\n",
       "      <td>1</td>\n",
       "      <td>1</td>\n",
       "      <td>Hải Châu</td>\n",
       "    </tr>\n",
       "    <tr>\n",
       "      <th>2</th>\n",
       "      <td>3</td>\n",
       "      <td>Hải Châu, Đà Nẵng</td>\n",
       "      <td>2500000.0</td>\n",
       "      <td>23.0</td>\n",
       "      <td>2025-07-16</td>\n",
       "      <td>0</td>\n",
       "      <td>0</td>\n",
       "      <td>0</td>\n",
       "      <td>1</td>\n",
       "      <td>Hải Châu</td>\n",
       "    </tr>\n",
       "    <tr>\n",
       "      <th>5</th>\n",
       "      <td>6</td>\n",
       "      <td>Hải Châu, Đà Nẵng</td>\n",
       "      <td>1900000.0</td>\n",
       "      <td>20.0</td>\n",
       "      <td>2025-06-16</td>\n",
       "      <td>0</td>\n",
       "      <td>0</td>\n",
       "      <td>0</td>\n",
       "      <td>0</td>\n",
       "      <td>Hải Châu</td>\n",
       "    </tr>\n",
       "    <tr>\n",
       "      <th>6</th>\n",
       "      <td>7</td>\n",
       "      <td>Ngũ Hành Sơn, Đà Nẵng</td>\n",
       "      <td>1500000.0</td>\n",
       "      <td>16.0</td>\n",
       "      <td>2025-06-16</td>\n",
       "      <td>0</td>\n",
       "      <td>0</td>\n",
       "      <td>0</td>\n",
       "      <td>0</td>\n",
       "      <td>Ngũ Hành Sơn</td>\n",
       "    </tr>\n",
       "    <tr>\n",
       "      <th>...</th>\n",
       "      <td>...</td>\n",
       "      <td>...</td>\n",
       "      <td>...</td>\n",
       "      <td>...</td>\n",
       "      <td>...</td>\n",
       "      <td>...</td>\n",
       "      <td>...</td>\n",
       "      <td>...</td>\n",
       "      <td>...</td>\n",
       "      <td>...</td>\n",
       "    </tr>\n",
       "    <tr>\n",
       "      <th>2400</th>\n",
       "      <td>2566</td>\n",
       "      <td>Liên Chiểu, Đà Nẵng</td>\n",
       "      <td>1800000.0</td>\n",
       "      <td>25.0</td>\n",
       "      <td>2021-10-30</td>\n",
       "      <td>0</td>\n",
       "      <td>0</td>\n",
       "      <td>0</td>\n",
       "      <td>0</td>\n",
       "      <td>Liên Chiểu</td>\n",
       "    </tr>\n",
       "    <tr>\n",
       "      <th>2405</th>\n",
       "      <td>2571</td>\n",
       "      <td>Hải Châu, Đà Nẵng</td>\n",
       "      <td>2000000.0</td>\n",
       "      <td>25.0</td>\n",
       "      <td>2021-10-30</td>\n",
       "      <td>0</td>\n",
       "      <td>0</td>\n",
       "      <td>0</td>\n",
       "      <td>0</td>\n",
       "      <td>Hải Châu</td>\n",
       "    </tr>\n",
       "    <tr>\n",
       "      <th>2406</th>\n",
       "      <td>2572</td>\n",
       "      <td>Ngũ Hành Sơn, Đà Nẵng</td>\n",
       "      <td>2300000.0</td>\n",
       "      <td>25.0</td>\n",
       "      <td>2021-10-30</td>\n",
       "      <td>0</td>\n",
       "      <td>0</td>\n",
       "      <td>0</td>\n",
       "      <td>0</td>\n",
       "      <td>Ngũ Hành Sơn</td>\n",
       "    </tr>\n",
       "    <tr>\n",
       "      <th>2408</th>\n",
       "      <td>2574</td>\n",
       "      <td>Hải Châu, Đà Nẵng</td>\n",
       "      <td>1700000.0</td>\n",
       "      <td>28.0</td>\n",
       "      <td>2021-10-30</td>\n",
       "      <td>1</td>\n",
       "      <td>1</td>\n",
       "      <td>1</td>\n",
       "      <td>1</td>\n",
       "      <td>Hải Châu</td>\n",
       "    </tr>\n",
       "    <tr>\n",
       "      <th>2409</th>\n",
       "      <td>2575</td>\n",
       "      <td>Hải Châu, Đà Nẵng</td>\n",
       "      <td>3000000.0</td>\n",
       "      <td>35.0</td>\n",
       "      <td>2021-10-30</td>\n",
       "      <td>0</td>\n",
       "      <td>0</td>\n",
       "      <td>1</td>\n",
       "      <td>1</td>\n",
       "      <td>Hải Châu</td>\n",
       "    </tr>\n",
       "  </tbody>\n",
       "</table>\n",
       "<p>1903 rows × 10 columns</p>\n",
       "</div>"
      ],
      "text/plain": [
       "        id               location      price  area date_posted fridge washer  \\\n",
       "0        1        Cẩm Lệ, Đà Nẵng  6900000.0  50.0  2025-09-16      1      1   \n",
       "1        2      Hải Châu, Đà Nẵng  5000000.0  35.0  2025-08-16      1      1   \n",
       "2        3      Hải Châu, Đà Nẵng  2500000.0  23.0  2025-07-16      0      0   \n",
       "5        6      Hải Châu, Đà Nẵng  1900000.0  20.0  2025-06-16      0      0   \n",
       "6        7  Ngũ Hành Sơn, Đà Nẵng  1500000.0  16.0  2025-06-16      0      0   \n",
       "...    ...                    ...        ...   ...         ...    ...    ...   \n",
       "2400  2566    Liên Chiểu, Đà Nẵng  1800000.0  25.0  2021-10-30      0      0   \n",
       "2405  2571      Hải Châu, Đà Nẵng  2000000.0  25.0  2021-10-30      0      0   \n",
       "2406  2572  Ngũ Hành Sơn, Đà Nẵng  2300000.0  25.0  2021-10-30      0      0   \n",
       "2408  2574      Hải Châu, Đà Nẵng  1700000.0  28.0  2021-10-30      1      1   \n",
       "2409  2575      Hải Châu, Đà Nẵng  3000000.0  35.0  2021-10-30      0      0   \n",
       "\n",
       "     air_condition wifi      district  \n",
       "0                1    1        Cẩm Lệ  \n",
       "1                1    1      Hải Châu  \n",
       "2                0    1      Hải Châu  \n",
       "5                0    0      Hải Châu  \n",
       "6                0    0  Ngũ Hành Sơn  \n",
       "...            ...  ...           ...  \n",
       "2400             0    0    Liên Chiểu  \n",
       "2405             0    0      Hải Châu  \n",
       "2406             0    0  Ngũ Hành Sơn  \n",
       "2408             1    1      Hải Châu  \n",
       "2409             1    1      Hải Châu  \n",
       "\n",
       "[1903 rows x 10 columns]"
      ]
     },
     "execution_count": 89,
     "metadata": {},
     "output_type": "execute_result"
    }
   ],
   "source": [
    "df[df.duplicated(subset=[\"location\", \"price\", \"area\"], keep=False)]"
   ]
  },
  {
   "cell_type": "code",
   "execution_count": 90,
   "id": "04394c7d",
   "metadata": {},
   "outputs": [
    {
     "name": "stdout",
     "output_type": "stream",
     "text": [
      "Số dòng trùng lặp: 0\n"
     ]
    },
    {
     "data": {
      "application/vnd.microsoft.datawrangler.viewer.v0+json": {
       "columns": [
        {
         "name": "index",
         "rawType": "int64",
         "type": "integer"
        },
        {
         "name": "id",
         "rawType": "int64",
         "type": "integer"
        },
        {
         "name": "location",
         "rawType": "object",
         "type": "string"
        },
        {
         "name": "price",
         "rawType": "float64",
         "type": "float"
        },
        {
         "name": "area",
         "rawType": "float64",
         "type": "float"
        },
        {
         "name": "date_posted",
         "rawType": "datetime64[ns]",
         "type": "datetime"
        },
        {
         "name": "fridge",
         "rawType": "object",
         "type": "string"
        },
        {
         "name": "washer",
         "rawType": "object",
         "type": "string"
        },
        {
         "name": "air_condition",
         "rawType": "object",
         "type": "string"
        },
        {
         "name": "wifi",
         "rawType": "object",
         "type": "string"
        },
        {
         "name": "district",
         "rawType": "object",
         "type": "string"
        }
       ],
       "ref": "bd50869c-4721-4e66-bb60-41d657792319",
       "rows": [],
       "shape": {
        "columns": 10,
        "rows": 0
       }
      },
      "text/html": [
       "<div>\n",
       "<style scoped>\n",
       "    .dataframe tbody tr th:only-of-type {\n",
       "        vertical-align: middle;\n",
       "    }\n",
       "\n",
       "    .dataframe tbody tr th {\n",
       "        vertical-align: top;\n",
       "    }\n",
       "\n",
       "    .dataframe thead th {\n",
       "        text-align: right;\n",
       "    }\n",
       "</style>\n",
       "<table border=\"1\" class=\"dataframe\">\n",
       "  <thead>\n",
       "    <tr style=\"text-align: right;\">\n",
       "      <th></th>\n",
       "      <th>id</th>\n",
       "      <th>location</th>\n",
       "      <th>price</th>\n",
       "      <th>area</th>\n",
       "      <th>date_posted</th>\n",
       "      <th>fridge</th>\n",
       "      <th>washer</th>\n",
       "      <th>air_condition</th>\n",
       "      <th>wifi</th>\n",
       "      <th>district</th>\n",
       "    </tr>\n",
       "  </thead>\n",
       "  <tbody>\n",
       "  </tbody>\n",
       "</table>\n",
       "</div>"
      ],
      "text/plain": [
       "Empty DataFrame\n",
       "Columns: [id, location, price, area, date_posted, fridge, washer, air_condition, wifi, district]\n",
       "Index: []"
      ]
     },
     "execution_count": 90,
     "metadata": {},
     "output_type": "execute_result"
    }
   ],
   "source": [
    "df = df[df[\"price\"] > 0]\n",
    "df = df.drop_duplicates()\n",
    "df = df.dropna(subset=[\"price\", \"area\"])\n",
    "duplicates = df[df.duplicated()]\n",
    "print(f\"Số dòng trùng lặp: {len(duplicates)}\")\n",
    "duplicates.head()\n"
   ]
  },
  {
   "cell_type": "code",
   "execution_count": 91,
   "id": "136704da",
   "metadata": {},
   "outputs": [
    {
     "name": "stdout",
     "output_type": "stream",
     "text": [
      "<class 'pandas.core.frame.DataFrame'>\n",
      "Index: 1903 entries, 0 to 2409\n",
      "Data columns (total 10 columns):\n",
      " #   Column         Non-Null Count  Dtype         \n",
      "---  ------         --------------  -----         \n",
      " 0   id             1903 non-null   int64         \n",
      " 1   location       1903 non-null   object        \n",
      " 2   price          1903 non-null   float64       \n",
      " 3   area           1903 non-null   float64       \n",
      " 4   date_posted    1903 non-null   datetime64[ns]\n",
      " 5   fridge         1903 non-null   object        \n",
      " 6   washer         1903 non-null   object        \n",
      " 7   air_condition  1903 non-null   object        \n",
      " 8   wifi           1903 non-null   object        \n",
      " 9   district       1903 non-null   object        \n",
      "dtypes: datetime64[ns](1), float64(2), int64(1), object(6)\n",
      "memory usage: 163.5+ KB\n",
      "None\n",
      "                id         price         area                    date_posted\n",
      "count  1903.000000  1.903000e+03  1903.000000                           1903\n",
      "mean   1246.267998  2.245717e+06    24.133999  2022-05-30 07:15:51.550183936\n",
      "min       1.000000  1.500000e+06    10.000000            2021-10-16 00:00:00\n",
      "25%     620.500000  1.700000e+06    20.000000            2021-10-21 00:00:00\n",
      "50%    1238.000000  2.000000e+06    22.000000            2021-10-28 00:00:00\n",
      "75%    1858.500000  2.500000e+06    27.000000            2022-10-21 00:00:00\n",
      "max    2575.000000  6.900000e+06    50.000000            2025-10-23 00:00:00\n",
      "std     724.986790  8.309037e+05     7.100111                            NaN\n"
     ]
    }
   ],
   "source": [
    "print(df.info())\n",
    "print(df.describe())\n"
   ]
  },
  {
   "cell_type": "code",
   "execution_count": 92,
   "id": "a0ac80d6",
   "metadata": {},
   "outputs": [],
   "source": [
    "# Loại bỏ 'Quận', 'quận', chuẩn hóa\n",
    "df['district'] = df['district'].str.replace(r'Quận |quận ', '', regex=True).str.title().str.strip()\n"
   ]
  },
  {
   "cell_type": "code",
   "execution_count": 93,
   "id": "8bb8cf0f",
   "metadata": {},
   "outputs": [
    {
     "name": "stdout",
     "output_type": "stream",
     "text": [
      "   fridge  washer  air_condition  wifi\n",
      "0       1       1              1     1\n",
      "1       1       1              1     1\n",
      "2       0       0              0     1\n",
      "5       0       0              0     0\n",
      "6       0       0              0     0\n",
      "fridge           0.348923\n",
      "washer           0.379926\n",
      "air_condition    0.361534\n",
      "wifi             0.454545\n",
      "dtype: float64\n"
     ]
    }
   ],
   "source": [
    "utilities = ['fridge', 'washer', 'air_condition', 'wifi']\n",
    "\n",
    "for col in utilities:\n",
    "    df[col] = df[col].apply(lambda x: 1 if '1' in str(x) else 0)\n",
    "\n",
    "df[utilities] = df[utilities].astype(int)\n",
    "\n",
    "print(df[utilities].head())\n",
    "print(df[utilities].mean())\n"
   ]
  },
  {
   "cell_type": "code",
   "execution_count": 94,
   "id": "d8f74309",
   "metadata": {},
   "outputs": [
    {
     "name": "stdout",
     "output_type": "stream",
     "text": [
      "📊 Tỷ lệ phòng có tiện ích (%):\n",
      "fridge           34.89\n",
      "washer           37.99\n",
      "air_condition    36.15\n",
      "wifi             45.45\n",
      "dtype: float64\n"
     ]
    }
   ],
   "source": [
    "# Tính phần trăm tiện ích có trong phòng\n",
    "utility_percent = (df[['fridge', 'washer', 'air_condition', 'wifi']].mean() * 100).round(2)\n",
    "print(\"📊 Tỷ lệ phòng có tiện ích (%):\")\n",
    "print(utility_percent)\n"
   ]
  },
  {
   "cell_type": "code",
   "execution_count": 95,
   "id": "4d4b3ccd",
   "metadata": {},
   "outputs": [
    {
     "name": "stdout",
     "output_type": "stream",
     "text": [
      "Shape dữ liệu: (1903, 10)\n",
      "\n",
      "Null values:\n",
      "id               0\n",
      "location         0\n",
      "price            0\n",
      "area             0\n",
      "date_posted      0\n",
      "fridge           0\n",
      "washer           0\n",
      "air_condition    0\n",
      "wifi             0\n",
      "district         0\n",
      "dtype: int64\n",
      "\n",
      "Kiểu dữ liệu (dtypes):\n",
      "id                        int64\n",
      "location                 object\n",
      "price                   float64\n",
      "area                    float64\n",
      "date_posted      datetime64[ns]\n",
      "fridge                    int64\n",
      "washer                    int64\n",
      "air_condition             int64\n",
      "wifi                      int64\n",
      "district                 object\n",
      "dtype: object\n",
      "\n",
      "Số dòng trùng lặp: 0\n",
      "\n",
      "Thống kê mô tả các cột dạng số:\n",
      "                id         price         area                    date_posted  \\\n",
      "count  1903.000000  1.903000e+03  1903.000000                           1903   \n",
      "mean   1246.267998  2.245717e+06    24.133999  2022-05-30 07:15:51.550183936   \n",
      "min       1.000000  1.500000e+06    10.000000            2021-10-16 00:00:00   \n",
      "25%     620.500000  1.700000e+06    20.000000            2021-10-21 00:00:00   \n",
      "50%    1238.000000  2.000000e+06    22.000000            2021-10-28 00:00:00   \n",
      "75%    1858.500000  2.500000e+06    27.000000            2022-10-21 00:00:00   \n",
      "max    2575.000000  6.900000e+06    50.000000            2025-10-23 00:00:00   \n",
      "std     724.986790  8.309037e+05     7.100111                            NaN   \n",
      "\n",
      "            fridge       washer  air_condition         wifi  \n",
      "count  1903.000000  1903.000000    1903.000000  1903.000000  \n",
      "mean      0.348923     0.379926       0.361534     0.454545  \n",
      "min       0.000000     0.000000       0.000000     0.000000  \n",
      "25%       0.000000     0.000000       0.000000     0.000000  \n",
      "50%       0.000000     0.000000       0.000000     0.000000  \n",
      "75%       1.000000     1.000000       1.000000     1.000000  \n",
      "max       1.000000     1.000000       1.000000     1.000000  \n",
      "std       0.476755     0.485496       0.480571     0.498060  \n",
      "\n",
      "Unique District: ['Cẩm Lệ' 'Hải Châu' 'Ngũ Hành Sơn' 'Sơn Trà' 'Liên Chiểu' 'Thanh Khê'\n",
      " 'Hòa Vang']\n",
      "\n",
      "Giá trị MIN-MAX Price: 1500000.0 - 6900000.0\n",
      " Giá trị MIN-MAX Area: 10.0 - 50.0\n",
      "\n",
      "Số bản ghi có ngày đăng trong tương lai: 0\n",
      "\n",
      "Số lượng phòng theo quận:\n",
      "district\n",
      "Hải Châu        514\n",
      "Ngũ Hành Sơn    379\n",
      "Cẩm Lệ          286\n",
      "Thanh Khê       265\n",
      "Liên Chiểu      244\n",
      "Sơn Trà         192\n",
      "Hòa Vang         23\n",
      "Name: count, dtype: int64\n"
     ]
    }
   ],
   "source": [
    "import pandas as pd\n",
    "\n",
    "# 1️⃣ Kiểm tra kích thước dữ liệu\n",
    "print(\"Shape dữ liệu:\", df.shape)\n",
    "\n",
    "# 2️⃣ Kiểm tra dữ liệu null\n",
    "print(\"\\nNull values:\")\n",
    "print(df.isnull().sum())\n",
    "\n",
    "# 3️⃣ Kiểm tra kiểu dữ liệu của các cột\n",
    "print(\"\\nKiểu dữ liệu (dtypes):\")\n",
    "print(df.dtypes)\n",
    "\n",
    "# 4️⃣ Kiểm tra dữ liệu trùng lặp\n",
    "dups = df.duplicated().sum()\n",
    "print(f\"\\nSố dòng trùng lặp: {dups}\")\n",
    "\n",
    "# 5️⃣ Kiểm tra thống kê cơ bản của số (price, area,…)\n",
    "print(\"\\nThống kê mô tả các cột dạng số:\")\n",
    "print(df.describe())\n",
    "\n",
    "# 6️⃣ Kiểm tra cột category: có giá trị bất thường không?\n",
    "print(\"\\nUnique District:\", df['district'].unique())\n",
    "\n",
    "# 7️⃣ Kiểm tra logic giá và diện tích\n",
    "print(\"\\nGiá trị MIN-MAX Price:\", df['price'].min(), '-', df['price'].max())\n",
    "print(\" Giá trị MIN-MAX Area:\", df['area'].min(), '-', df['area'].max())\n",
    "\n",
    "# 8️⃣ Kiểm tra ngày đăng có lỗi tương lai?\n",
    "future_date_count = sum(df['date_posted'] > pd.Timestamp.today())\n",
    "print(f\"\\nSố bản ghi có ngày đăng trong tương lai: {future_date_count}\")\n",
    "\n",
    "# 9️⃣ Kiểm tra phân phối District (xem có lệch quá không?)\n",
    "print(\"\\nSố lượng phòng theo quận:\")\n",
    "print(df['district'].value_counts())\n"
   ]
  },
  {
   "cell_type": "code",
   "execution_count": 96,
   "id": "c0656683",
   "metadata": {},
   "outputs": [
    {
     "name": "stdout",
     "output_type": "stream",
     "text": [
      "district\n",
      "Hòa Vang        2.986957e+06\n",
      "Sơn Trà         2.646875e+06\n",
      "Hải Châu        2.326848e+06\n",
      "Ngũ Hành Sơn    2.325330e+06\n",
      "Cẩm Lệ          2.247552e+06\n",
      "Thanh Khê       2.031698e+06\n",
      "Liên Chiểu      1.795902e+06\n",
      "Name: price, dtype: float64\n"
     ]
    }
   ],
   "source": [
    "# Tính giá trung bình theo từng quận\n",
    "mean_price_by_district = df.groupby('district')['price'].mean().sort_values(ascending=False)\n",
    "print(mean_price_by_district)\n"
   ]
  },
  {
   "cell_type": "code",
   "execution_count": 98,
   "id": "0b864928",
   "metadata": {},
   "outputs": [
    {
     "name": "stdout",
     "output_type": "stream",
     "text": [
      "(16, 10)\n"
     ]
    }
   ],
   "source": [
    "# Xóa bản ghi Hòa Vang có giá = 6,000,000 VND\n",
    "df = df[~((df['district'] == \"Hòa Vang\") & (df['price'] == 6_000_000))]\n",
    "\n",
    "# Kiểm tra lại số bản ghi Hòa Vang\n",
    "print(df[df['district']==\"Hòa Vang\"].shape)\n"
   ]
  },
  {
   "cell_type": "code",
   "execution_count": 99,
   "id": "1ea708f5",
   "metadata": {},
   "outputs": [
    {
     "name": "stderr",
     "output_type": "stream",
     "text": [
      "C:\\Users\\PC THINH\\AppData\\Local\\Temp\\ipykernel_32852\\1635260804.py:9: FutureWarning: \n",
      "\n",
      "Passing `palette` without assigning `hue` is deprecated and will be removed in v0.14.0. Assign the `x` variable to `hue` and set `legend=False` for the same effect.\n",
      "\n",
      "  sns.boxplot(x='district', y='price_million', data=df, palette='Set2')\n"
     ]
    },
    {
     "data": {
      "image/png": "[encoded data removed]",
      "text/plain": [
       "<Figure size 1000x600 with 1 Axes>"
      ]
     },
     "metadata": {},
     "output_type": "display_data"
    }
   ],
   "source": [
    "import matplotlib.pyplot as plt\n",
    "import seaborn as sns\n",
    "\n",
    "df['price_million'] = df['price'] / 1_000_000\n",
    "import matplotlib.pyplot as plt\n",
    "import seaborn as sns\n",
    "\n",
    "plt.figure(figsize=(10,6))\n",
    "sns.boxplot(x='district', y='price_million', data=df, palette='Set2')\n",
    "plt.title(\"So sánh giá thuê giữa các quận ở Đà Nẵng\", fontsize=14, weight='bold')\n",
    "plt.xlabel(\"Quận\")\n",
    "plt.ylabel(\"Giá thuê (triệu đồng/tháng)\")\n",
    "plt.xticks(rotation=45)\n",
    "plt.grid(alpha=0.3)\n",
    "plt.show()\n",
    "\n",
    "\n",
    "#Giúp bạn xem quận nào đắt nhất (ví dụ Hải Châu cao hơn Cẩm Lệ).\n"
   ]
  }
 ],
 "metadata": {
  "kernelspec": {
   "display_name": "Python 3",
   "language": "python",
   "name": "python3"
  },
  "language_info": {
   "codemirror_mode": {
    "name": "ipython",
    "version": 3
   },
   "file_extension": ".py",
   "mimetype": "text/x-python",
   "name": "python",
   "nbconvert_exporter": "python",
   "pygments_lexer": "ipython3",
   "version": "3.13.7"
  }
 },
 "nbformat": 4,
 "nbformat_minor": 5
}
